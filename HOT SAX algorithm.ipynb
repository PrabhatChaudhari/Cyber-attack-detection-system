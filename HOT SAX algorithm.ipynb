{
 "cells": [
  {
   "cell_type": "code",
   "execution_count": 1,
   "id": "30b91938",
   "metadata": {},
   "outputs": [],
   "source": [
    "import numpy as np\n",
    "import pandas as pd\n",
    "import scipy.stats as stats\n",
    "from saxpy.hotsax import find_discords_hotsax\n",
    "from datetime import timedelta\n",
    "from numpy import genfromtxt"
   ]
  },
  {
   "cell_type": "code",
   "execution_count": 2,
   "id": "dc57faff",
   "metadata": {
    "scrolled": false
   },
   "outputs": [
    {
     "name": "stdout",
     "output_type": "stream",
     "text": [
      "[[1.2230e+04        nan 1.0000e+00]\n",
      " [1.1534e+04        nan 2.0000e+00]\n",
      " [1.1038e+04        nan 3.0000e+00]\n",
      " ...\n",
      " [1.7038e+04        nan 2.2000e+01]\n",
      " [1.6199e+04        nan 2.3000e+01]\n",
      " [1.5438e+04        nan 2.4000e+01]]\n",
      "[12230. 11534. 11038. ... 17038. 16199. 15438.]\n"
     ]
    }
   ],
   "source": [
    "records = genfromtxt(\"scaling20-0.2.csv\", delimiter=',')\n",
    "print(records)\n",
    "values = records[:,0]\n",
    "dd = stats.zscore(values)\n",
    "print(values)"
   ]
  },
  {
   "cell_type": "code",
   "execution_count": 3,
   "id": "ce9d42c5",
   "metadata": {},
   "outputs": [
    {
     "data": {
      "text/plain": [
       "[(9537, 2.466079164348603),\n",
       " (40732, 2.315744842276507),\n",
       " (14709, 1.8959593176586236),\n",
       " (5207, 1.8819408370575157),\n",
       " (22381, 1.8411024414719552),\n",
       " (29652, 1.826258068732854),\n",
       " (10276, 1.8066702400037076),\n",
       " (43380, 1.7936194915330932),\n",
       " (36591, 1.7318303173844585),\n",
       " (24868, 1.407619867301573),\n",
       " (19532, 1.344167563178906),\n",
       " (39484, 1.182370570726723),\n",
       " (36031, 1.139060946345522),\n",
       " (10821, 1.1303232886180075),\n",
       " (43654, 1.106961192241964),\n",
       " (28555, 1.0691876828010884),\n",
       " (10013, 1.0683024799836636),\n",
       " (27909, 1.0594357475041687),\n",
       " (1304, 1.044451766259787),\n",
       " (8792, 1.0160350627838883)]"
      ]
     },
     "execution_count": 3,
     "metadata": {},
     "output_type": "execute_result"
    }
   ],
   "source": [
    "discords = find_discords_hotsax(dd, win_size=24, num_discords=20)\n",
    "discords"
   ]
  },
  {
   "cell_type": "code",
   "execution_count": 5,
   "id": "5192466c",
   "metadata": {
    "scrolled": true
   },
   "outputs": [
    {
     "name": "stdout",
     "output_type": "stream",
     "text": [
      "01,02,2005\n",
      "24,08,2008\n",
      "04,09,2005\n",
      "04,08,2004\n",
      "21,07,2006\n",
      "20,05,2007\n",
      "04,03,2005\n",
      "12,12,2008\n",
      "04,03,2008\n",
      "02,11,2006\n",
      "24,03,2006\n",
      "03,07,2008\n",
      "10,02,2008\n",
      "26,03,2005\n",
      "23,12,2008\n",
      "04,04,2007\n",
      "21,02,2005\n",
      "08,03,2007\n",
      "24,02,2004\n",
      "01,01,2005\n"
     ]
    }
   ],
   "source": [
    "from datetime import datetime, timedelta\n",
    "\n",
    "# input date\n",
    "input_date_str = '2004-01-01'\n",
    "input_date = datetime.strptime(input_date_str, '%Y-%m-%d')\n",
    "\n",
    "# number of days to add\n",
    "for i in discords:\n",
    "    n = i[0]/24\n",
    "\n",
    "# calculate the date n days after the input date\n",
    "    result_date = input_date + timedelta(days=n)\n",
    "\n",
    "# format the result date as a string\n",
    "    result_date_str = result_date.strftime('%d,%m,%Y')\n",
    "\n",
    "# print the result\n",
    "    print(result_date_str)"
   ]
  },
  {
   "cell_type": "code",
   "execution_count": null,
   "id": "1bc3bbac",
   "metadata": {},
   "outputs": [],
   "source": []
  }
 ],
 "metadata": {
  "kernelspec": {
   "display_name": "Python 3",
   "language": "python",
   "name": "python3"
  },
  "language_info": {
   "codemirror_mode": {
    "name": "ipython",
    "version": 3
   },
   "file_extension": ".py",
   "mimetype": "text/x-python",
   "name": "python",
   "nbconvert_exporter": "python",
   "pygments_lexer": "ipython3",
   "version": "3.8.8"
  }
 },
 "nbformat": 4,
 "nbformat_minor": 5
}
