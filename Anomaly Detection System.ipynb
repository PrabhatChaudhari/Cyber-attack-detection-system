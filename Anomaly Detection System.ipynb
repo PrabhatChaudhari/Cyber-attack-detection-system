{
 "cells": [
  {
   "cell_type": "markdown",
   "id": "86609466",
   "metadata": {},
   "source": [
    "### Importing Libraries and Loading Models"
   ]
  },
  {
   "cell_type": "code",
   "execution_count": 1,
   "id": "e14e56e1",
   "metadata": {},
   "outputs": [
    {
     "name": "stdout",
     "output_type": "stream",
     "text": [
      "       SystemLoad       Date  Hour\n",
      "0           12230 2004-01-01     1\n",
      "1           11534 2004-01-01     2\n",
      "2           11038 2004-01-01     3\n",
      "3           10777 2004-01-01     4\n",
      "4           10764 2004-01-01     5\n",
      "...           ...        ...   ...\n",
      "43843       18563 2008-12-31    20\n",
      "43844       17825 2008-12-31    21\n",
      "43845       17038 2008-12-31    22\n",
      "43846       16199 2008-12-31    23\n",
      "43847       15438 2008-12-31    24\n",
      "\n",
      "[43848 rows x 3 columns]\n"
     ]
    },
    {
     "name": "stderr",
     "output_type": "stream",
     "text": [
      "C:\\Users\\prabh\\anaconda3\\lib\\site-packages\\openpyxl\\worksheet\\_reader.py:312: UserWarning: Unknown extension is not supported and will be removed\n",
      "  warn(msg)\n"
     ]
    }
   ],
   "source": [
    "#This section of code includes the necessary import statements for various libraries and packages, \n",
    "#as well as loading pre-trained models for later use. It also reads data from an Excel file.\n",
    "\n",
    "import numpy as np \n",
    "import matplotlib.pyplot as plt \n",
    "import pandas as pd\n",
    "from catboost import CatBoostClassifier\n",
    "from sklearn.preprocessing import StandardScaler\n",
    "from joblib import dump, load\n",
    "import datetime as dt\n",
    "from datetime import time\n",
    "from random import random\n",
    "import random\n",
    "\n",
    "model = CatBoostClassifier()\n",
    "model.load_model('catboost_classifier_model')\n",
    "ss_X = load('fitted_scaler.joblib')\n",
    "\n",
    "\n",
    "\n",
    "df = pd.read_excel(\"EnergyData.xlsx\")\n",
    "print(df)\n",
    "\n",
    "\n"
   ]
  },
  {
   "cell_type": "markdown",
   "id": "bb60f006",
   "metadata": {},
   "source": [
    "### Energy Data Attack Simulation\n"
   ]
  },
  {
   "cell_type": "code",
   "execution_count": 2,
   "id": "393cb9a6",
   "metadata": {},
   "outputs": [
    {
     "name": "stderr",
     "output_type": "stream",
     "text": [
      "<ipython-input-2-5f58c85247ba>:97: SettingWithCopyWarning: \n",
      "A value is trying to be set on a copy of a slice from a DataFrame\n",
      "\n",
      "See the caveats in the documentation: https://pandas.pydata.org/pandas-docs/stable/user_guide/indexing.html#returning-a-view-versus-a-copy\n",
      "  df['SystemLoad'][i]=df['SystemLoad'][i]*(1+scaling_parameter)\n"
     ]
    },
    {
     "name": "stdout",
     "output_type": "stream",
     "text": [
      "Scaling Attack succesfully done on following data points : \n",
      "[[Timestamp('2004-04-01 00:00:00'), 6], [Timestamp('2004-04-01 00:00:00'), 7], [Timestamp('2004-04-01 00:00:00'), 8], [Timestamp('2004-04-01 00:00:00'), 9]]\n",
      "2004-04-01\n"
     ]
    },
    {
     "name": "stderr",
     "output_type": "stream",
     "text": [
      "<ipython-input-2-5f58c85247ba>:37: SettingWithCopyWarning: \n",
      "A value is trying to be set on a copy of a slice from a DataFrame\n",
      "\n",
      "See the caveats in the documentation: https://pandas.pydata.org/pandas-docs/stable/user_guide/indexing.html#returning-a-view-versus-a-copy\n",
      "  df['SystemLoad'][i]=df['SystemLoad'][i]*(1+ramping_parameter*(df['Hour'][i]-starting_time))\n",
      "<ipython-input-2-5f58c85247ba>:43: SettingWithCopyWarning: \n",
      "A value is trying to be set on a copy of a slice from a DataFrame\n",
      "\n",
      "See the caveats in the documentation: https://pandas.pydata.org/pandas-docs/stable/user_guide/indexing.html#returning-a-view-versus-a-copy\n",
      "  df['SystemLoad'][i]=df['SystemLoad'][i]*(1+ramping_parameter*(ending_time-df['Hour'][i]))\n"
     ]
    },
    {
     "name": "stdout",
     "output_type": "stream",
     "text": [
      "Ramping Attack succesfully done on following data points : \n",
      "[[Timestamp('2008-06-10 00:00:00'), 6], [Timestamp('2008-06-10 00:00:00'), 7], [Timestamp('2008-06-10 00:00:00'), 9], [Timestamp('2008-06-10 00:00:00'), 10]]\n",
      "2008-06-10\n"
     ]
    },
    {
     "name": "stderr",
     "output_type": "stream",
     "text": [
      "<ipython-input-2-5f58c85247ba>:76: SettingWithCopyWarning: \n",
      "A value is trying to be set on a copy of a slice from a DataFrame\n",
      "\n",
      "See the caveats in the documentation: https://pandas.pydata.org/pandas-docs/stable/user_guide/indexing.html#returning-a-view-versus-a-copy\n",
      "  df['SystemLoad'][i]=df['SystemLoad'][i]+random_parameter*random.random()\n"
     ]
    },
    {
     "name": "stdout",
     "output_type": "stream",
     "text": [
      "Random Attack succesfully done on following data points : \n",
      "[[Timestamp('2007-06-30 00:00:00'), 6], [Timestamp('2007-06-30 00:00:00'), 7], [Timestamp('2007-06-30 00:00:00'), 8], [Timestamp('2007-06-30 00:00:00'), 9], [Timestamp('2007-06-30 00:00:00'), 10], [Timestamp('2007-06-30 00:00:00'), 11], [Timestamp('2007-06-30 00:00:00'), 12], [Timestamp('2007-06-30 00:00:00'), 13], [Timestamp('2007-06-30 00:00:00'), 14]]\n",
      "2007-06-30\n"
     ]
    },
    {
     "name": "stderr",
     "output_type": "stream",
     "text": [
      "<ipython-input-2-5f58c85247ba>:116: SettingWithCopyWarning: \n",
      "A value is trying to be set on a copy of a slice from a DataFrame\n",
      "\n",
      "See the caveats in the documentation: https://pandas.pydata.org/pandas-docs/stable/user_guide/indexing.html#returning-a-view-versus-a-copy\n",
      "  df['SystemLoad'][i]=df['SystemLoad'][i]*(1+pulse_parameter)\n"
     ]
    },
    {
     "name": "stdout",
     "output_type": "stream",
     "text": [
      "Pulse Attack succesfully done on following data points : \n",
      "[[Timestamp('2007-08-12 00:00:00'), 6]]\n",
      "2007-08-12\n",
      "Scaling Attack succesfully done on following data points : \n",
      "[[Timestamp('2004-07-02 00:00:00'), 4], [Timestamp('2004-07-02 00:00:00'), 5], [Timestamp('2004-07-02 00:00:00'), 6], [Timestamp('2004-07-02 00:00:00'), 7], [Timestamp('2004-07-02 00:00:00'), 8]]\n",
      "2004-07-02\n"
     ]
    }
   ],
   "source": [
    "# Create an empty list to store the results\n",
    "list1 = []\n",
    "\n",
    "# Function to compute cumulative distribution function (CDF) for a given date\n",
    "def cdf(df,dd,mm,yy):\n",
    "    data=[]\n",
    "    new_date=dt.date(yy,mm,dd)\n",
    "    print(new_date)\n",
    "    \n",
    "    for i in df.index:\n",
    "        if(df['Date'][i]==new_date ):\n",
    "            \n",
    "            data.append(df['SystemLoad'][i])\n",
    "    data.sort()\n",
    "    x=data[0]\n",
    "    y=data[16]\n",
    "    z=data[22]\n",
    "    \n",
    "    return x,y,z\n",
    "\n",
    "# Function to perform ramping attack on the given data\n",
    "def ramping_attack(ramping_parameter,df,dd,mm,yy,starting_time,ending_time):\n",
    "    row_num =[]\n",
    "    new_date = dt.date(yy,mm,dd)\n",
    "    avg_time=starting_time+ending_time\n",
    "    avg_time=avg_time/2    \n",
    "    for i in df.index:\n",
    "\n",
    "        if(df['Date'][i]==new_date):\n",
    "            if(df['Hour'][i]>starting_time and df['Hour'][i]<avg_time):\n",
    "                df['SystemLoad'][i]=df['SystemLoad'][i]*(1+ramping_parameter*(df['Hour'][i]-starting_time))\n",
    "                details=[]\n",
    "                details.append(df['Date'][i])\n",
    "                details.append(df['Hour'][i])\n",
    "                row_num.append(details)       \n",
    "            if(df['Hour'][i]>avg_time and df['Hour'][i]<ending_time):\n",
    "                df['SystemLoad'][i]=df['SystemLoad'][i]*(1+ramping_parameter*(ending_time-df['Hour'][i]))\n",
    "                details=[]\n",
    "                details.append(df['Date'][i])\n",
    "                details.append(df['Hour'][i])\n",
    "                row_num.append(details)                \n",
    "    print(\"Ramping Attack succesfully done on following data points : \")\n",
    "    print(row_num)\n",
    "    x,y,z = cdf(df,dd,mm,yy)\n",
    "    output = 2\n",
    "    list_0 = [x,y,x,output]\n",
    "    list1.append(list_0)    \n",
    " \n",
    "    \n",
    "\n",
    "\n",
    "# Function to perform random attack on the given data    \n",
    "def random_attack(df,dd,mm,yy,starting_time,ending_time):\n",
    "    \n",
    "    row_num = []\n",
    "    new_date=dt.date(yy,mm,dd)\n",
    "    random_parameter=0\n",
    "    for i in df.index:\n",
    "        if(df['Date'][i]==new_date ):\n",
    "            if(df['Hour'][i]>starting_time and df['Hour'][i]<ending_time):\n",
    "                if(random_parameter<df['SystemLoad'][i]):\n",
    "                    random_parameter=df['SystemLoad'][i]\n",
    "                \n",
    "                \n",
    "    random_parameter=random_parameter/2                                                      \n",
    "                \n",
    "    for i in df.index:\n",
    "        if(df['Date'][i]==new_date):\n",
    "            if(df['Hour'][i]>starting_time and df['Hour'][i]<ending_time):\n",
    "                df['SystemLoad'][i]=df['SystemLoad'][i]+random_parameter*random.random()\n",
    "                details=[]\n",
    "                details.append(df['Date'][i])\n",
    "                details.append(df['Hour'][i])\n",
    "                row_num.append(details)\n",
    "    print(\"Random Attack succesfully done on following data points : \")\n",
    "    print(row_num)\n",
    "    x,y,z = cdf(df,dd,mm,yy)\n",
    "    output = 3\n",
    "    list_0 = [x,y,x,output]\n",
    "    list1.append(list_0)    \n",
    "\n",
    "    \n",
    "# Function to perform scaling attack on the given data\n",
    "def scaling_attack(scaling_parameter,df,dd,mm,yy,starting_time,ending_time):\n",
    "    \n",
    "    row_num=[]\n",
    "    \n",
    "    new_date = dt.date(yy,mm,dd)\n",
    "    for i in df.index:\n",
    "        if(df['Date'][i]==new_date and df['Hour'][i]>=starting_time and df['Hour'][i]<=ending_time):\n",
    "            df['SystemLoad'][i]=df['SystemLoad'][i]*(1+scaling_parameter)\n",
    "            details=[]\n",
    "            details.append(df['Date'][i])\n",
    "            details.append(df['Hour'][i])\n",
    "            row_num.append(details)\n",
    "    print(\"Scaling Attack succesfully done on following data points : \")\n",
    "    print(row_num)  \n",
    "    x,y,z = cdf(df,dd,mm,yy)\n",
    "    output = 0\n",
    "    list_0 = [x,y,x,output]\n",
    "    list1.append(list_0)\n",
    "    \n",
    "# Function to perform pulse attack on the given data\n",
    "def pulse_attack(df,dd,mm,yy,attack_point_time,pulse_parameter):\n",
    "    row_num = []\n",
    "    new_date=dt.date(yy,mm,dd)\n",
    "    random_parameter=0\n",
    "    for i in df.index:\n",
    "        if(df['Date'][i]==new_date ):\n",
    "            if(df['Hour'][i]==attack_point_time):\n",
    "                df['SystemLoad'][i]=df['SystemLoad'][i]*(1+pulse_parameter)\n",
    "                details=[]\n",
    "                details.append(df['Date'][i])\n",
    "                details.append(df['Hour'][i])\n",
    "                row_num.append(details)                \n",
    "\n",
    "    print(\"Pulse Attack succesfully done on following data points : \")\n",
    "    print(row_num)\n",
    "    \n",
    "    x,y,z = cdf(df,dd,mm,yy)\n",
    "    output = 1\n",
    "    list_0 = [x,y,x,output]\n",
    "    list1.append(list_0)\n",
    "    \n",
    "\n",
    "scaling_attack(0.6,df,1,4,2004,6,9)\n",
    "ramping_attack(0.8,df,10,6,2008,5,11)\n",
    "random_attack(df,30,6,2007,5,15)\n",
    "pulse_attack(df,12,8,2007,6,12)\n",
    "scaling_attack(0.8,df,2,7,2004,4,8)\n",
    "\n",
    "df.to_csv('Attacked_data.csv', index=False)\n",
    "\n",
    "\n"
   ]
  },
  {
   "cell_type": "markdown",
   "id": "62fc26e8",
   "metadata": {},
   "source": [
    "### Discord Detection in Attacked Data"
   ]
  },
  {
   "cell_type": "code",
   "execution_count": 3,
   "id": "29c2cd3e",
   "metadata": {},
   "outputs": [
    {
     "name": "stdout",
     "output_type": "stream",
     "text": [
      "[[1.2230e+04        nan 1.0000e+00]\n",
      " [1.1534e+04        nan 2.0000e+00]\n",
      " [1.1038e+04        nan 3.0000e+00]\n",
      " ...\n",
      " [1.7038e+04        nan 2.2000e+01]\n",
      " [1.6199e+04        nan 2.3000e+01]\n",
      " [1.5438e+04        nan 2.4000e+01]]\n"
     ]
    }
   ],
   "source": [
    "from numpy import genfromtxt\n",
    "import scipy.stats as stats\n",
    "from saxpy.hotsax import find_discords_hotsax\n",
    "\n",
    "# Detecting discords from the attacked data\n",
    "records = genfromtxt(\"Attacked_data.csv\", delimiter=',')\n",
    "print(records)\n",
    "values = records[:,0]\n",
    "\n",
    "# Normalize the values using z-scores\n",
    "dd = stats.zscore(values)\n",
    "\n",
    "# The 'records' variable holds the loaded data from the CSV file\n",
    "# and is displayed using the 'print' statement.\n",
    "\n",
    "# The 'values' variable contains the values extracted from the first column\n",
    "# of the 'records' array. These values will be used for discord detection.\n",
    "\n",
    "# The 'dd' variable is assigned the z-scores of the 'values' array.\n",
    "# This step normalizes the values to have a mean of 0 and a standard deviation of 1.\n",
    "\n",
    "# The 'find_discords_hotsax' function from the 'saxpy.hotsax' module\n",
    "# is used to detect discords in the normalized data."
   ]
  },
  {
   "cell_type": "markdown",
   "id": "d4cf0042",
   "metadata": {},
   "source": [
    "### Displaying the Results"
   ]
  },
  {
   "cell_type": "code",
   "execution_count": 4,
   "id": "d688e4bd",
   "metadata": {},
   "outputs": [
    {
     "data": {
      "text/plain": [
       "[(31658, 4.246315881083663),\n",
       " (38915, 3.2356375557076786),\n",
       " (4373, 3.0261743263808665),\n",
       " (2188, 2.6222728086564824),\n",
       " (30617, 2.48465604291053)]"
      ]
     },
     "execution_count": 4,
     "metadata": {},
     "output_type": "execute_result"
    }
   ],
   "source": [
    "discords = find_discords_hotsax(dd, win_size=24, num_discords=5)\n",
    "discords"
   ]
  },
  {
   "cell_type": "markdown",
   "id": "52dee971",
   "metadata": {},
   "source": [
    "### Date Calculation for Detected Discords"
   ]
  },
  {
   "cell_type": "code",
   "execution_count": 5,
   "id": "03412c88",
   "metadata": {},
   "outputs": [
    {
     "name": "stdout",
     "output_type": "stream",
     "text": [
      "12,08,2007\n",
      "09,06,2008\n",
      "01,07,2004\n",
      "01,04,2004\n",
      "29,06,2007\n"
     ]
    }
   ],
   "source": [
    "from datetime import datetime, timedelta\n",
    "\n",
    "# input date\n",
    "input_date_str = '2004-01-01'\n",
    "input_date = datetime.strptime(input_date_str, '%Y-%m-%d')\n",
    "\n",
    "# number of days to add\n",
    "for i in discords:\n",
    "    n = i[0]/24\n",
    "\n",
    "# calculate the date n days after the input date\n",
    "    result_date = input_date + timedelta(days=n)\n",
    "\n",
    "# format the result date as a string\n",
    "    result_date_str = result_date.strftime('%d,%m,%Y')\n",
    "\n",
    "# print the result\n",
    "    print(result_date_str)"
   ]
  },
  {
   "cell_type": "markdown",
   "id": "4def7b65",
   "metadata": {},
   "source": [
    "### Creating a DataFrame and Dropping rows"
   ]
  },
  {
   "cell_type": "code",
   "execution_count": 6,
   "id": "a32a5ff2",
   "metadata": {},
   "outputs": [],
   "source": [
    "import pandas as pd\n",
    "df_1 = pd.DataFrame(list1, columns=['X_05 %', 'X_68%' , 'X_95%' , 'Template' ])\n",
    "\n",
    "\n",
    "# df_1.drop(date_no-1,axis=0,inplace=True)"
   ]
  },
  {
   "cell_type": "markdown",
   "id": "a7b5c84f",
   "metadata": {},
   "source": [
    "### Data Scaling and Prediction Evaluation"
   ]
  },
  {
   "cell_type": "code",
   "execution_count": 7,
   "id": "5a8c4f11",
   "metadata": {},
   "outputs": [
    {
     "name": "stdout",
     "output_type": "stream",
     "text": [
      "Accuracy :  40.0\n"
     ]
    }
   ],
   "source": [
    "# ss_X = StandardScaler()\n",
    "from sklearn.metrics import accuracy_score, recall_score, precision_score, f1_score , confusion_matrix\n",
    "\n",
    "# Prepare the test data\n",
    "X_test = df_1.iloc[:,:-1].values\n",
    "y_test = df_1.iloc[:, 3].values\n",
    "\n",
    "# Perform data scaling\n",
    "X_test = ss_X.transform(X_test)\n",
    "\n",
    "y_pred = model.predict(X_test)\n",
    "\n",
    "print(\"Accuracy : \", accuracy_score(y_test, y_pred) *  100)\n",
    "\n"
   ]
  },
  {
   "cell_type": "code",
   "execution_count": null,
   "id": "ba849bcd",
   "metadata": {},
   "outputs": [],
   "source": []
  }
 ],
 "metadata": {
  "kernelspec": {
   "display_name": "Python 3",
   "language": "python",
   "name": "python3"
  },
  "language_info": {
   "codemirror_mode": {
    "name": "ipython",
    "version": 3
   },
   "file_extension": ".py",
   "mimetype": "text/x-python",
   "name": "python",
   "nbconvert_exporter": "python",
   "pygments_lexer": "ipython3",
   "version": "3.8.8"
  }
 },
 "nbformat": 4,
 "nbformat_minor": 5
}
